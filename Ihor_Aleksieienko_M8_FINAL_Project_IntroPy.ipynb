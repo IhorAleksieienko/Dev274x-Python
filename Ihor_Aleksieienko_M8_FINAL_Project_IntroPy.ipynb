{
  "cells": [
    {
      "metadata": {},
      "cell_type": "markdown",
      "source": "# Final Project Required Coding Activity  \nIntroduction to Python (Unit 2) Fundamentals  \n\n**This Activity is intended to be completed in the jupyter notebook, `Required_FINAL_Project_IntroPy.ipynb`, and then pasted into the assessment page that follows.**   \n \nAll course .ipynb Jupyter Notebooks are available from the project files download topic in Module 1, Section 1.  \n\nThis activity is based on modules 1 - 4 and is similar to exercises in the Jupyter Notebooks **`Practice_MOD03_IntroPy.ipynb`** and **`Practice_MOD04_IntroPy.ipynb`** which you may have completed as practice.\n\n| **Assignment Requirements** |\n|:-------------------------------|\n|This program requires the use of **`print`** output and use of  **`input`**, **`for`**/**`in`** loop, **`if`**, file **`open`**, **`.readline`**, **`.append`**, **`.strip`**, **`len`**. and function **`def`** and **`return`**. The code should also consider using most of the following (`.upper()` or `.lower()`, `.title()`, `print(\"hello\",end=\"\")` `else`, `elif`, `range()`, `while`, `.close()`) |\n\n\n## Program: Element_Quiz  \nIn this program the user enters the name of any 5 of the first 20 Atomic Elements and is given a grade and test report for items correct and incorrect.  \n\n\n### Sample input and output:  \n```\nlist any 5 of the first 20 elements in the Period table\nEnter the name of an element: argon\nEnter the name of an element: chlorine\nEnter the name of an element: sodium\nEnter the name of an element: argon\nargon was already entered          <--no duplicates allowed\nEnter the name of an element: helium\nEnter the name of an element: gold\n\n80 % correct\nFound: Argon Chlorine Sodium Helium \nNot Found: Gold \n```  \n\n\n### Create get_names() Function to collect input of 5 unique element names  \n\n- The function accepts no arguments and returns a list of 5 input strings (element names)  \n- define a list to hold the input\n- collect input of a element name  \n- if input it is **not** already in the list add the input to the list  \n- don't allow empty strings as input  \n- once 5 unique inputs **return** the list  \n\n\n### Create the Program flow  \n\n#### import the file into the Jupyter Notebook environment   \n\n- use `!curl` to download https://raw.githubusercontent.com/MicrosoftLearning/intropython/master/elements1_20.txt\" as `elements1_20.txt`  \n- open the file with the first 20 elements  \n- read one line at a time to get element names, remove any whitespace (spaces, newlines) and save each element name, as lowercase, into a list  \n\n\n####  Call the get_names() function  \n\n- the return value will be the quiz responses list  \n\n#### check if responses are in the list of elements  \nIterate through 5 responses  \n- compare each response to the list of 20 elements\n  - any response that is in the list of 20 elements is correct and should be added to a list of correct responses  \n  - if not in the list of 20 elements then add to a list of incorrect responses  \n\n#### calculate the % correct  \n \n - find the the number of items in the correct responses and divide by 5, this will result in answers like 1.0, .8, .6,...  \n - to get the % multiple the calculated answer above by 100, this will result in answers like 100, 80, 60...  \n - *hint: instead of dividing by 5 and then multiplying by 100, the number of correct responses can be multiplied by 20*  \n\n#### Print output  \n\n- print the Score % right  \n- print each of the correct responses  \n- print each of the incorrect responses  \n\n\n### create Element_Quiz  then paste code on edX submission page\n\n"
    },
    {
      "metadata": {
        "trusted": true
      },
      "cell_type": "code",
      "source": "# [] create Element_Quiz\n# [] copy and paste in edX assignment page\n!curl https://raw.githubusercontent.com/MicrosoftLearning/intropython/master/elements1_20.txt -o elements1_20.txt",
      "execution_count": 2,
      "outputs": [
        {
          "output_type": "stream",
          "text": "  % Total    % Received % Xferd  Average Speed   Time    Time     Time  Current\n                                 Dload  Upload   Total   Spent    Left  Speed\n100   161  100   161    0     0     49      0  0:00:03  0:00:03 --:--:--    49\n",
          "name": "stdout"
        }
      ]
    },
    {
      "metadata": {
        "trusted": true
      },
      "cell_type": "code",
      "source": "with open('elements1_20.txt', 'r') as el_file:\n    elements_list = [el.strip().lower() for el in el_file.read().splitlines()]\nprint(elements_list)",
      "execution_count": 35,
      "outputs": [
        {
          "output_type": "stream",
          "text": "['hydrogen', 'helium', 'lithium', 'beryllium', 'boron', 'carbon', 'nitrogen', 'oxygen', 'fluorine', 'neon', 'sodium', 'magnesium', 'aluminum', 'silicon', 'phosphorus', 'sulfur', 'chlorine', 'argon', 'potassium', 'calcium']\n",
          "name": "stdout"
        }
      ]
    },
    {
      "metadata": {
        "trusted": true
      },
      "cell_type": "code",
      "source": "class decor_quiz_result:\n    def __init__(self, fn):\n        self.origin_fn = fn\n\n    def __call__(self, rs, el):\n        cr, wr = self.origin_fn(rs, el)\n        print( \"{0:.0%} is correct\".format(len(cr)/(len(cr)+len(wr))) )\n        print( \"Found: {0}\".format(' '.join(cr).title()) )\n        print( \"Not Found: {0}\".format(' '.join(wr).title()) )\n        \ndef classic_decor(fn):\n    def wrapper(rs, el):\n        cr, wr = fn(rs, el)\n        print( \"{0:.0%} is correct\".format(len(cr)/(len(cr)+len(wr))) )\n        print( \"Found: {0}\".format(' '.join(cr).title()) )\n        print( \"Not Found: {0}\".format(' '.join(wr).title()) )\n    return wrapper",
      "execution_count": 55,
      "outputs": []
    },
    {
      "metadata": {
        "trusted": true
      },
      "cell_type": "code",
      "source": "def get_names(count=5):\n    print(\"List any {0} of the first 20 elements in the Period table:\".format(count))\n    responses = set()\n    \n    while count > 0:\n        elem = input(\"Enter the name of an element: \").lower().strip()\n        if elem.isalpha():\n            if elem in responses:\n                print(\"{0} was already entered          <--no duplicates allowed\".format(elem))\n            else:\n                responses.add(elem)\n                count -= 1\n        else:\n            print(\"Not alphabetic. Try again.\")\n    return responses\n\n@decor_quiz_result\ndef check_responses(responses_set, elements_list):\n    correct_responses = responses_set.intersection(elements_list)\n    wrong_responses = responses_set.difference(elements_list)\n    return correct_responses, wrong_responses\n\n@classic_decor\ndef check_responses_2(responses_set, elements_list):\n    correct_responses = responses_set.intersection(elements_list)\n    wrong_responses = responses_set.difference(elements_list)\n    return correct_responses, wrong_responses\n\ndef check_responses_3(responses_set, elements_list):\n    correct_responses = responses_set.intersection(elements_list)\n    wrong_responses = responses_set.difference(elements_list)\n    return correct_responses, wrong_responses",
      "execution_count": 56,
      "outputs": []
    },
    {
      "metadata": {
        "trusted": true
      },
      "cell_type": "code",
      "source": "count=5\nresponses_set = get_names(count)",
      "execution_count": 57,
      "outputs": [
        {
          "output_type": "stream",
          "text": "List any 5 of the first 20 elements in the Period table:\nEnter the name of an element: \nNot alphabetic. Try again.\nEnter the name of an element: \nNot alphabetic. Try again.\nEnter the name of an element: neon\nEnter the name of an element: q\nEnter the name of an element: w\nEnter the name of an element: e\nEnter the name of an element: silver\n",
          "name": "stdout"
        }
      ]
    },
    {
      "metadata": {
        "trusted": true
      },
      "cell_type": "code",
      "source": "#%%timeit #using decorated function from decorator class\ncheck_responses(responses_set, elements_list)\n#401 µs ± 22.5 µs per loop (mean ± std. dev. of 7 runs, 1000 loops each)",
      "execution_count": 58,
      "outputs": [
        {
          "output_type": "stream",
          "text": "20% is correct\nFound: Neon\nNot Found: E W Silver Q\n",
          "name": "stdout"
        }
      ]
    },
    {
      "metadata": {
        "trusted": true
      },
      "cell_type": "code",
      "source": "#%%timeit #using origin function from decorator class\ncorrect_responses, wrong_responses = check_responses.origin_fn(responses_set, elements_list)\nprint( \"{0:.0%} is correct\".format(len(correct_responses)/(len(correct_responses)+len(wrong_responses))) )\nprint( \"Found: {0}\".format(' '.join(correct_responses).title()) )\nprint( \"Not Found: {0}\".format(' '.join(wrong_responses).title()) )\n#402 µs ± 9.76 µs per loop (mean ± std. dev. of 7 runs, 1000 loops each)",
      "execution_count": 59,
      "outputs": [
        {
          "output_type": "stream",
          "text": "20% is correct\nFound: Neon\nNot Found: E W Silver Q\n",
          "name": "stdout"
        }
      ]
    },
    {
      "metadata": {
        "trusted": true
      },
      "cell_type": "code",
      "source": "#%%timeit #using \"standart (classic)\" decorator function\ncheck_responses_2(responses_set, elements_list)\n#423 µs ± 35 µs per loop (mean ± std. dev. of 7 runs, 1000 loops each)",
      "execution_count": 60,
      "outputs": [
        {
          "output_type": "stream",
          "text": "20% is correct\nFound: Neon\nNot Found: E W Silver Q\n",
          "name": "stdout"
        }
      ]
    },
    {
      "metadata": {
        "trusted": true
      },
      "cell_type": "code",
      "source": "#%%timeit #using origin function without decorator\ncorrect_responses, wrong_responses = check_responses_3(responses_set, elements_list)\nprint( \"{0:.0%} is correct\".format(len(correct_responses)/(len(correct_responses)+len(wrong_responses))) )\nprint( \"Found: {0}\".format(' '.join(correct_responses).title()) )\nprint( \"Not Found: {0}\".format(' '.join(wrong_responses).title()) )\n#433 µs ± 35.4 µs per loop (mean ± std. dev. of 7 runs, 1000 loops each)",
      "execution_count": 61,
      "outputs": [
        {
          "output_type": "stream",
          "text": "20% is correct\nFound: Neon\nNot Found: E W Silver Q\n",
          "name": "stdout"
        }
      ]
    },
    {
      "metadata": {},
      "cell_type": "markdown",
      "source": "## I've heard that decorators slowing down code.\n## But in this case, it seems no big difference.\n## Or this \"slowing down\" just because you cover function with additional calculations."
    },
    {
      "metadata": {
        "trusted": true
      },
      "cell_type": "code",
      "source": "%%timeit #using origin function from decorator class w/o print(...)\ncorrect_responses, wrong_responses = check_responses.origin_fn(responses_set, elements_list)",
      "execution_count": 62,
      "outputs": [
        {
          "output_type": "stream",
          "text": "1.7 µs ± 155 ns per loop (mean ± std. dev. of 7 runs, 1000000 loops each)\n",
          "name": "stdout"
        }
      ]
    },
    {
      "metadata": {
        "trusted": true
      },
      "cell_type": "code",
      "source": "%%timeit #using origin function w/o print(...)\ncorrect_responses, wrong_responses = check_responses_3(responses_set, elements_list)",
      "execution_count": 63,
      "outputs": [
        {
          "output_type": "stream",
          "text": "1.72 µs ± 165 ns per loop (mean ± std. dev. of 7 runs, 1000000 loops each)\n",
          "name": "stdout"
        }
      ]
    },
    {
      "metadata": {},
      "cell_type": "markdown",
      "source": "[Terms of use](http://go.microsoft.com/fwlink/?LinkID=206977) &nbsp; [Privacy & cookies](https://go.microsoft.com/fwlink/?LinkId=521839) &nbsp; © 2017 Microsoft"
    }
  ],
  "metadata": {
    "anaconda-cloud": {},
    "kernelspec": {
      "name": "python3",
      "display_name": "Python 3",
      "language": "python"
    },
    "language_info": {
      "mimetype": "text/x-python",
      "nbconvert_exporter": "python",
      "name": "python",
      "pygments_lexer": "ipython3",
      "version": "3.5.4",
      "file_extension": ".py",
      "codemirror_mode": {
        "version": 3,
        "name": "ipython"
      }
    }
  },
  "nbformat": 4,
  "nbformat_minor": 1
}