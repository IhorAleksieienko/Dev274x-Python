{
  "cells": [
    {
      "cell_type": "code",
      "execution_count": 4,
      "metadata": {
        "tags": []
      },
      "outputs": [
        {
          "output_type": "stream",
          "name": "stdout",
          "text": "<bound method original_fn.print_val of <__main__.original_fn object at 0x071EF538>>\nval  :  val\nSubject  :  No subject\n\n<bound method decor.<locals>.wrapper of <__main__.original_fn object at 0x071EF538>>\nval  :  val\nSubject  :  No subject\nsome text after function\n"
        }
      ],
      "source": [
        "def decor(fn):\n",
        "        def wrapper(*args):\n",
        "            fn(*args)\n",
        "            print('some text after function')\n",
        "        return wrapper\n",
        "\n",
        "class original_fn:\n",
        "    def __init__(self):\n",
        "        self.val = 'val'\n",
        "\n",
        "    def print_val(self, *args): #instance method w/o decor\n",
        "        print(\"val  : \", self.val)\n",
        "        print(\"Subject  : \", *args)\n",
        "    \n",
        "    @staticmethod\n",
        "    @decor\n",
        "    def print_args(*args):  # static method\n",
        "        print(\"Subject  : \", *args)\n",
        "        \n",
        "    @decor\n",
        "    def print_val_args(self, *args): #instance method with decorator\n",
        "        print(\"val  : \", self.val)\n",
        "        print(\"Subject  : \", *args)\n",
        "\n",
        "fn_object = original_fn()\n",
        "\n",
        "print(fn_object.print_val) #<bound method original_fn.print_val of <__main__.original_fn object>>\n",
        "fn_object.print_val( 'No subject' )\n",
        "print()\n",
        "\n",
        "print(fn_object.print_val_args) #<bound method decor.<locals>.wrapper of <__main__.original_fn object>>\n",
        "fn_object.print_val_args( 'No subject' )\n"
      ]
    },
    {
      "cell_type": "markdown",
      "metadata": {},
      "source": [
        "---\n",
        "\n",
        "After the method is decorated (using <code>class decor:...</code>) binding with the object lost? <br>\n",
        "So if we decorate instance methods, we should manually add class instance ***fn_object*** to arguments: <code>fn_object.print_val_args( ***fn_object***, 'No subject' )</code> <br>\n",
        "Is there any way how to avoid it (using <code>class decor:...</code>)? <br>\n",
        "Why???"
      ]
    },
    {
      "cell_type": "code",
      "execution_count": 3,
      "metadata": {
        "tags": []
      },
      "outputs": [
        {
          "output_type": "stream",
          "name": "stdout",
          "text": "<bound method original_fn.print_val of <__main__.original_fn object at 0x071EFA48>>\nval  :  val\nSubject  :  No subject\n\n<__main__.decor object at 0x071EFA78>\nval  :  val\nSubject  :  No subject\nsome text after function\n\n<function original_fn.print_val_args at 0x073FEDA8>\nval  :  val\nSubject  :  No subject\n"
        }
      ],
      "source": [
        "class decor:\n",
        "    def __init__(self, fn):\n",
        "        self.origin = fn\n",
        "\n",
        "    def __call__(self, *args):\n",
        "        self.origin(*args)\n",
        "        print('some text after function')\n",
        "\n",
        "class original_fn:\n",
        "    def __init__(self):\n",
        "        self.val = 'val'\n",
        "\n",
        "    def print_val(self, *args): #instance method w/o decor\n",
        "        print(\"val  : \", self.val)\n",
        "        print(\"Subject  : \", *args)\n",
        "\n",
        "    @staticmethod\n",
        "    @decor\n",
        "    def print_args(*args):  # static method\n",
        "        print(\"Subject  : \", *args)\n",
        "\n",
        "    @decor\n",
        "    def print_val_args(self, *args): #instance method with decorator\n",
        "        print(\"val  : \", self.val)\n",
        "        print(\"Subject  : \", *args)\n",
        "\n",
        "fn_object = original_fn()\n",
        "\n",
        "#<bound method original_fn.print_val of <__main__.original_fn object>>\n",
        "print(fn_object.print_val)\n",
        "fn_object.print_val( 'No subject' )\n",
        "print()\n",
        "\n",
        "\n",
        "#<__main__.decor object>\n",
        "print(fn_object.print_val_args) \n",
        "fn_object.print_val_args( fn_object, 'No subject' )\n",
        "print()\n",
        "\n",
        "#<function original_fn.print_val_args>\n",
        "print(fn_object.print_val_args.origin) \n",
        "fn_object.print_val_args.origin( fn_object, 'No subject' )"
      ]
    }
  ],
  "metadata": {
    "anaconda-cloud": {},
    "kernelspec": {
      "name": "python3",
      "display_name": "Python 3",
      "language": "python"
    },
    "language_info": {
      "mimetype": "text/x-python",
      "nbconvert_exporter": "python",
      "name": "python",
      "pygments_lexer": "ipython3",
      "version": "3.8.3-final",
      "file_extension": ".py",
      "codemirror_mode": {
        "version": 3,
        "name": "ipython"
      }
    }
  },
  "nbformat": 4,
  "nbformat_minor": 1
}