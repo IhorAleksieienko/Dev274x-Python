{
  "cells": [
    {
      "cell_type": "code",
      "execution_count": 246,
      "metadata": {},
      "outputs": [],
      "source": [
        "import random"
      ]
    },
    {
      "metadata": {
        "trusted": true
      },
      "cell_type": "code",
      "source": [
        "class decor_quiz_result:\n",
        "    def __init__(self, fn):\n",
        "        self.origin = fn\n",
        "\n",
        "    def __call__(self, subject, responses, quiz_data):\n",
        "        cr, wr, sr = self.origin(self, subject, responses, quiz_data)\n",
        "        print( \"\\n{0:.0%} is correct\".format(sr[subject]) )\n",
        "        if type(quiz_data) is type(dict()):\n",
        "            print( \"Found: {0}\".format('; '.join(ans for ans in [el[0]+'='+el[1] for el in list(cr.items())]) ) )\n",
        "            print( \"Not Found: {0}\".format('; '.join(ans for ans in [el[0]+'='+el[1] for el in list(wr.items())]) ) )\n",
        "        else:\n",
        "            print( \"Found: {0}\".format(' '.join(cr).title()) )\n",
        "            print( \"Not Found: {0}\".format(' '.join(wr).title()) )"
      ],
      "execution_count": 247,
      "outputs": []
    },
    {
      "metadata": {
        "trusted": true
      },
      "cell_type": "code",
      "source": [
        "class Testing:\n",
        "    def __init__(self):\n",
        "        self.tests_results = {}\n",
        "        self.success_rate = {}\n",
        "        \n",
        "    def chemistry_check(self, student, questions_qty):\n",
        "        print('=========================================================================')\n",
        "        print('Starting quiz for student {1} , Id:{0}'.format(student.id, student.name))\n",
        "        print(\"List any {0} of the first 20 elements in the Period table:\".format(questions_qty))\n",
        "        responses = {}\n",
        "        count = questions_qty\n",
        "        while count > 0:\n",
        "            answer = student.get_answer()\n",
        "            if answer.isalpha():\n",
        "                if answer in responses.values():\n",
        "                    print(\"{0} was already entered          <--no duplicates allowed\".format(answer))\n",
        "                else:\n",
        "                    responses[questions_qty-count+1] = answer\n",
        "                    count -= 1\n",
        "            else:\n",
        "                print(\"Not alphabetic. Try again.\")\n",
        "        self.tests_results[\"chemistry\"] = responses\n",
        "        return \"Chemistry check DONE\"\n",
        "    \n",
        "    def algebra_check(self, student, questions_qty, questions):\n",
        "        print('=========================================================================')\n",
        "        print('Starting quiz for student {1} , Id:{0}'.format(student.id, student.name))\n",
        "        responses = {}\n",
        "        count = questions_qty\n",
        "        while count > 0:\n",
        "            question_number = random.randint(0, len(questions)-1)\n",
        "            question = list(questions.keys())[question_number]\n",
        "            while question in responses.keys():\n",
        "                question_number = random.randint(0, len(questions)-1)\n",
        "                question = list(questions.keys())[question_number]\n",
        "            print('Question №{0} : {1}'.format(question_number, question))\n",
        "            answer = student.get_answer()\n",
        "            if answer.isdecimal():\n",
        "                responses[question] = answer\n",
        "                count -= 1\n",
        "            else:\n",
        "                print(\"Not a number. Try again.\")\n",
        "        self.tests_results[\"algebra\"] = responses\n",
        "        return \"Algebra check DONE\"\n",
        "    \n",
        "    @decor_quiz_result #just for testing decorator\n",
        "    def responses_check(self, subject, responses, quiz_data):\n",
        "        if type(quiz_data) is type(dict()):\n",
        "            print(\"Answers  : \", [key +': '+ quiz_data[key] for key in responses[subject].keys()])\n",
        "            print(\"Responses: \", [key +': '+ responses[subject][key] for key in responses[subject].keys()])\n",
        "            correct_responses = {key : value for key, value in responses[subject].items() if quiz_data[key]==responses[subject][key]}\n",
        "            wrong_responses = {key : value for key, value in responses[subject].items() - correct_responses.items()}\n",
        "            self.success_rate = {subject : len(correct_responses)/len(responses[subject].values())}\n",
        "        else:\n",
        "            correct_responses = [response for response in responses[subject].values() if (response in quiz_data)]\n",
        "            wrong_responses = [response for response in responses[subject].values() if (response not in correct_responses)]\n",
        "            self.success_rate = {subject : len(correct_responses)/len(responses[subject].values())}\n",
        "        return correct_responses, wrong_responses, self.success_rate"
      ],
      "execution_count": 249,
      "outputs": []
    },
    {
      "metadata": {
        "trusted": true
      },
      "cell_type": "code",
      "source": [
        "class Human:\n",
        "    def __init__(self, name):\n",
        "        self.name = name\n",
        "\n",
        "class Teacher(Human): #Teacher IS A Human\n",
        "    def __init__(self, id, name):\n",
        "        super().__init__(name)\n",
        "        self.id = id\n",
        "       \n",
        "    def get_quiz_data(self, filepath):\n",
        "        with open(filepath, 'r') as el_file:\n",
        "            if len(el_file.readline().strip().lower().split(','))>1:\n",
        "                el_file.seek(0)\n",
        "                quiz_data = {el.strip().lower().split(',')[0]:','.join(el.strip().lower().split(',')[1:]) for el in el_file.read().splitlines()}\n",
        "            else:\n",
        "                el_file.seek(0)\n",
        "                quiz_data = {el.strip().lower() for el in el_file.read().splitlines()}\n",
        "        return quiz_data\n",
        "    \n",
        "    def get_questions_qty(self):\n",
        "        self.questions_qty = input('How many questions ask: ')\n",
        "        while not self.questions_qty.isdigit():\n",
        "            print(\"Not a number. Try again.\")\n",
        "            self.questions_qty = input('How many questions ask: ')\n",
        "        self.questions_qty = int(self.questions_qty)\n",
        "        return self.questions_qty\n",
        "    \n",
        "class Student(Human): #Student IS A Human\n",
        "    def __init__(self, id, name, tests):\n",
        "        super().__init__(name)\n",
        "        self.id = id\n",
        "        self.tests = tests #Student HAS tests (class Testing)\n",
        "        \n",
        "    def get_answer(self):\n",
        "        return input(\"My answer: \").lower().strip()"
      ],
      "execution_count": 250,
      "outputs": []
    },
    {
      "metadata": {
        "trusted": true
      },
      "cell_type": "code",
      "source": [
        "class LearnGroup:\n",
        "    def __init__(self, group_id):\n",
        "        self.group_id = group_id\n",
        "        self.students = None #LearnGroup HAS students\n",
        "        self.teacher = None #LearnGroup HAS teacher\n",
        "        self.questions_qty = None"
      ],
      "execution_count": 248,
      "outputs": []
    },
    {
      "metadata": {
        "trusted": true
      },
      "cell_type": "code",
      "source": [
        "students[Student(1, 'John Smith',Testing()).id] = Student(1, 'John Smith',Testing())\n",
        "students[Student(2, 'Jane Doe',Testing()).id] = Student(2, 'Jane Doe',Testing())\n",
        "\n",
        "teacher = Teacher(0, 'Rajesh Kutrapali')\n",
        "\n",
        "some_group = LearnGroup(0)\n",
        "some_group.students = students\n",
        "some_group.teacher = teacher"
      ],
      "execution_count": 251,
      "outputs": []
    },
    {
      "cell_type": "markdown",
      "metadata": {},
      "source": [
        "### Algebra test"
      ]
    },
    {
      "cell_type": "code",
      "execution_count": 252,
      "metadata": {
        "tags": []
      },
      "outputs": [
        {
          "output_type": "stream",
          "name": "stdout",
          "text": "=========================================================================\nStarting quiz for student John Smith , Id:1\nQuestion №10 : 8*1\nQuestion №19 : 1*0\n=========================================================================\nStarting quiz for student Jane Doe , Id:2\nQuestion №3 : 3*9\nQuestion №13 : 6*2\n*************************************************************************\n=========================================================================\nAlgebra results for student John Smith , Id:1\nAnswers  :  ['8*1: 8', '1*0: 0']\nResponses:  ['8*1: 8', '1*0: 0']\n\n100% is correct\nFound: 8*1=8; 1*0=0\nNot Found: \n=========================================================================\nAlgebra results for student Jane Doe , Id:2\nAnswers  :  ['3*9: 27', '6*2: 12']\nResponses:  ['3*9: 27', '6*2: 12']\n\n100% is correct\nFound: 3*9=27; 6*2=12\nNot Found: \n"
        }
      ],
      "source": [
        "some_group.questions_qty = teacher.get_questions_qty()\n",
        "\n",
        "for student in some_group.students.values():\n",
        "    student.tests.algebra_check(student, some_group.questions_qty, teacher.get_quiz_data('algebra.txt'))\n",
        "\n",
        "print()\n",
        "for student in some_group.students.values():\n",
        "    print('=========================================================================')\n",
        "    print('Algebra results for student {1} , Id:{0}'.format(student.id, student.name))\n",
        "    student.tests.responses_check('algebra', student.tests.tests_results, teacher.get_quiz_data('algebra.txt'))"
      ]
    },
    {
      "cell_type": "markdown",
      "metadata": {},
      "source": [
        "### Call origin function (w/o decor)"
      ]
    },
    {
      "cell_type": "code",
      "execution_count": 264,
      "metadata": {
        "tags": []
      },
      "outputs": [],
      "source": [
        "#for student in some_group.students.values():\n",
        "#    print('=========================================================================')\n",
        "#    print('Algebra results for student {1} , Id:{0}'.format(student.id, student.name))\n",
        "#    student.tests.responses_check.origin(_, 'algebra', student.tests.tests_results, teacher.get_quiz_data('algebra1_20.txt'))"
      ]
    },
    {
      "cell_type": "markdown",
      "metadata": {},
      "source": [
        "### Chemistry test"
      ]
    },
    {
      "metadata": {
        "trusted": true,
        "tags": []
      },
      "cell_type": "code",
      "source": [
        "some_group.questions_qty = teacher.get_questions_qty()\n",
        "\n",
        "for student in some_group.students.values():\n",
        "    student.tests.chemistry_check(student, some_group.questions_qty)    \n",
        "\n",
        "print('*************************************************************************')\n",
        "print(teacher.get_quiz_data('chemistry.txt'))\n",
        "for student in some_group.students.values():\n",
        "    print('=========================================================================')\n",
        "    print('Chemistry results for student {1} , Id:{0}'.format(student.id, student.name))\n",
        "    student.tests.responses_check('chemistry', student.tests.tests_results, teacher.get_quiz_data('chemistry.txt'))"
      ],
      "execution_count": null,
      "outputs": []
    }
  ],
  "metadata": {
    "anaconda-cloud": {},
    "kernelspec": {
      "name": "python3",
      "display_name": "Python 3",
      "language": "python"
    },
    "language_info": {
      "mimetype": "text/x-python",
      "nbconvert_exporter": "python",
      "name": "python",
      "pygments_lexer": "ipython3",
      "version": "3.8.3-final",
      "file_extension": ".py",
      "codemirror_mode": {
        "version": 3,
        "name": "ipython"
      }
    }
  },
  "nbformat": 4,
  "nbformat_minor": 1
}